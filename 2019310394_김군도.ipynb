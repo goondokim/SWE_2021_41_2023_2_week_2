{
  "nbformat": 4,
  "nbformat_minor": 0,
  "metadata": {
    "colab": {
      "provenance": []
    },
    "kernelspec": {
      "name": "python3",
      "display_name": "Python 3"
    },
    "language_info": {
      "name": "python"
    }
  },
  "cells": [
    {
      "cell_type": "markdown",
      "source": [
        "## Task\n",
        "- Complete **isHappy** function following the description below\n",
        "\n",
        "### Happy Number\n",
        "Write an algorithm to determine if a number **n** is happy.\n",
        "\n",
        "A **happy number** is a number defined by the following process:\n",
        "\n",
        "* Starting with any positive integer, replace the number by the sum of the squares of its digits.\n",
        "* Repeat the process until the number equals 1 (where it will stay), or it **loops endlessly in a cycle** which does not include 1.\n",
        "* Those numbers for which this process **ends in 1** are happy.\n",
        "\n",
        "Return **true** if n is a happy number, and **false** if not.\n",
        "\n",
        "Constraints:\n",
        "1 <= n <= $2^{31}$ - 1"
      ],
      "metadata": {
        "id": "TV3Socqg8BVl"
      }
    },
    {
      "cell_type": "code",
      "execution_count": 2,
      "metadata": {
        "id": "5FcxitVf5kdQ",
        "colab": {
          "base_uri": "https://localhost:8080/"
        },
        "outputId": "61b4a3b0-2d5a-40b6-a2a0-b9814ecccb27"
      },
      "outputs": [
        {
          "output_type": "stream",
          "name": "stdout",
          "text": [
            "n = 19\n",
            "True\n"
          ]
        }
      ],
      "source": [
        "def isHappy(n):\n",
        "  #음수인지 최대숫자 넘어가는지 체크\n",
        "  if (n<=0 or n>=2**31):\n",
        "    print(False)\n",
        "\n",
        "  # 무한루프 도는지 확인할 리스트 생성\n",
        "  numlist = list()\n",
        "\n",
        "  while True:\n",
        "    # 원하는 조건(n==1)이 됐는지, Max 넘어가는지 확인\n",
        "    if n==1:\n",
        "      print(True)\n",
        "      break\n",
        "    if n>=2**31:\n",
        "      print(False)\n",
        "      break\n",
        "      # 무한루프 돌게되는 조건(이미 나온 숫자가 나옴)인지 확인\n",
        "    if n in numlist:\n",
        "      print(False)\n",
        "      break\n",
        "      # 안나왔던 숫자라면 numlist 에 넣음\n",
        "    numlist.append(n)\n",
        "    # 각 digit의 숫자들을 nums에 쪼개서 보관\n",
        "    nums = list()\n",
        "    while (n != 0):\n",
        "      a = n % 10\n",
        "      nums.append(a)\n",
        "      n = n // 10\n",
        "# 이미 n==0이고, 각 digit의 제곱수들을 n에 저장 및 다시 처음으로 n을 돌림\n",
        "    for i in nums:\n",
        "      n += i**2\n",
        "\n",
        "n = int(input(\"n = \"))\n",
        "isHappy(n)\n"
      ]
    },
    {
      "cell_type": "markdown",
      "source": [
        "**Testcase 1.**\n",
        "\n",
        "**Input**: n = 19\n",
        "\n",
        "**Output**: True\n",
        "\n",
        "**Explanation**:\n",
        "\n",
        "$1^2 + 9^2 = 82$\n",
        "\n",
        "$8^2 + 2^2 = 68$\n",
        "\n",
        "$6^2 + 2^2 = 100$\n",
        "\n",
        "$1^2 + 0^2 + 0^2 = 1$"
      ],
      "metadata": {
        "id": "eRrh24Ognrqf"
      }
    },
    {
      "cell_type": "markdown",
      "source": [
        "**Testcase 2.**\n",
        "\n",
        "**Input**: n = 2\n",
        "\n",
        "**Output**: False"
      ],
      "metadata": {
        "id": "dE7YMY8qoPoj"
      }
    }
  ]
}